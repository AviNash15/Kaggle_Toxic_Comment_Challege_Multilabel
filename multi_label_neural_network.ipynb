{
 "cells": [
  {
   "cell_type": "code",
   "execution_count": 1,
   "metadata": {
    "scrolled": true
   },
   "outputs": [
    {
     "name": "stderr",
     "output_type": "stream",
     "text": [
      "/opt/anaconda3/lib/python3.6/site-packages/h5py/__init__.py:34: FutureWarning: Conversion of the second argument of issubdtype from `float` to `np.floating` is deprecated. In future, it will be treated as `np.float64 == np.dtype(float).type`.\n",
      "  from ._conv import register_converters as _register_converters\n",
      "Using TensorFlow backend.\n"
     ]
    }
   ],
   "source": [
    "import string\n",
    "import numpy as np\n",
    "import pandas as pd\n",
    "from collections import Counter\n",
    "from sklearn.metrics import roc_auc_score\n",
    "from sklearn.model_selection import train_test_split\n",
    "from sklearn.metrics import classification_report\n",
    "from keras.preprocessing.text import Tokenizer\n",
    "from keras.preprocessing.sequence import pad_sequences\n",
    "from keras.models import Model, Sequential\n",
    "from keras.layers import Embedding, Convolution1D, MaxPooling1D\n",
    "from keras.layers import concatenate, GlobalAveragePooling1D, GlobalMaxPool1D\n",
    "from keras.layers import Dense, Dropout, Flatten, Input\n",
    "from keras.layers import LSTM, Bidirectional\n",
    "from keras.regularizers import l2\n",
    "from keras.utils import to_categorical\n",
    "from keras.callbacks import TensorBoard, ModelCheckpoint, EarlyStopping, Callback"
   ]
  },
  {
   "cell_type": "code",
   "execution_count": 2,
   "metadata": {
    "collapsed": true
   },
   "outputs": [],
   "source": [
    "train_data = pd.read_csv(\"./train.csv\", sep=\",\")\n",
    "test_data  = pd.read_csv(\"./test.csv\", sep=\",\")"
   ]
  },
  {
   "cell_type": "code",
   "execution_count": 3,
   "metadata": {},
   "outputs": [
    {
     "data": {
      "text/html": [
       "<div>\n",
       "<style>\n",
       "    .dataframe thead tr:only-child th {\n",
       "        text-align: right;\n",
       "    }\n",
       "\n",
       "    .dataframe thead th {\n",
       "        text-align: left;\n",
       "    }\n",
       "\n",
       "    .dataframe tbody tr th {\n",
       "        vertical-align: top;\n",
       "    }\n",
       "</style>\n",
       "<table border=\"1\" class=\"dataframe\">\n",
       "  <thead>\n",
       "    <tr style=\"text-align: right;\">\n",
       "      <th></th>\n",
       "      <th>id</th>\n",
       "      <th>comment_text</th>\n",
       "      <th>toxic</th>\n",
       "      <th>severe_toxic</th>\n",
       "      <th>obscene</th>\n",
       "      <th>threat</th>\n",
       "      <th>insult</th>\n",
       "      <th>identity_hate</th>\n",
       "    </tr>\n",
       "  </thead>\n",
       "  <tbody>\n",
       "    <tr>\n",
       "      <th>0</th>\n",
       "      <td>0000997932d777bf</td>\n",
       "      <td>Explanation\\nWhy the edits made under my usern...</td>\n",
       "      <td>0</td>\n",
       "      <td>0</td>\n",
       "      <td>0</td>\n",
       "      <td>0</td>\n",
       "      <td>0</td>\n",
       "      <td>0</td>\n",
       "    </tr>\n",
       "    <tr>\n",
       "      <th>1</th>\n",
       "      <td>000103f0d9cfb60f</td>\n",
       "      <td>D'aww! He matches this background colour I'm s...</td>\n",
       "      <td>0</td>\n",
       "      <td>0</td>\n",
       "      <td>0</td>\n",
       "      <td>0</td>\n",
       "      <td>0</td>\n",
       "      <td>0</td>\n",
       "    </tr>\n",
       "    <tr>\n",
       "      <th>2</th>\n",
       "      <td>000113f07ec002fd</td>\n",
       "      <td>Hey man, I'm really not trying to edit war. It...</td>\n",
       "      <td>0</td>\n",
       "      <td>0</td>\n",
       "      <td>0</td>\n",
       "      <td>0</td>\n",
       "      <td>0</td>\n",
       "      <td>0</td>\n",
       "    </tr>\n",
       "    <tr>\n",
       "      <th>3</th>\n",
       "      <td>0001b41b1c6bb37e</td>\n",
       "      <td>\"\\nMore\\nI can't make any real suggestions on ...</td>\n",
       "      <td>0</td>\n",
       "      <td>0</td>\n",
       "      <td>0</td>\n",
       "      <td>0</td>\n",
       "      <td>0</td>\n",
       "      <td>0</td>\n",
       "    </tr>\n",
       "    <tr>\n",
       "      <th>4</th>\n",
       "      <td>0001d958c54c6e35</td>\n",
       "      <td>You, sir, are my hero. Any chance you remember...</td>\n",
       "      <td>0</td>\n",
       "      <td>0</td>\n",
       "      <td>0</td>\n",
       "      <td>0</td>\n",
       "      <td>0</td>\n",
       "      <td>0</td>\n",
       "    </tr>\n",
       "  </tbody>\n",
       "</table>\n",
       "</div>"
      ],
      "text/plain": [
       "                 id                                       comment_text  toxic  \\\n",
       "0  0000997932d777bf  Explanation\\nWhy the edits made under my usern...      0   \n",
       "1  000103f0d9cfb60f  D'aww! He matches this background colour I'm s...      0   \n",
       "2  000113f07ec002fd  Hey man, I'm really not trying to edit war. It...      0   \n",
       "3  0001b41b1c6bb37e  \"\\nMore\\nI can't make any real suggestions on ...      0   \n",
       "4  0001d958c54c6e35  You, sir, are my hero. Any chance you remember...      0   \n",
       "\n",
       "   severe_toxic  obscene  threat  insult  identity_hate  \n",
       "0             0        0       0       0              0  \n",
       "1             0        0       0       0              0  \n",
       "2             0        0       0       0              0  \n",
       "3             0        0       0       0              0  \n",
       "4             0        0       0       0              0  "
      ]
     },
     "execution_count": 3,
     "metadata": {},
     "output_type": "execute_result"
    }
   ],
   "source": [
    "train_data.head()"
   ]
  },
  {
   "cell_type": "code",
   "execution_count": 4,
   "metadata": {},
   "outputs": [
    {
     "data": {
      "text/html": [
       "<div>\n",
       "<style>\n",
       "    .dataframe thead tr:only-child th {\n",
       "        text-align: right;\n",
       "    }\n",
       "\n",
       "    .dataframe thead th {\n",
       "        text-align: left;\n",
       "    }\n",
       "\n",
       "    .dataframe tbody tr th {\n",
       "        vertical-align: top;\n",
       "    }\n",
       "</style>\n",
       "<table border=\"1\" class=\"dataframe\">\n",
       "  <thead>\n",
       "    <tr style=\"text-align: right;\">\n",
       "      <th></th>\n",
       "      <th>id</th>\n",
       "      <th>comment_text</th>\n",
       "    </tr>\n",
       "  </thead>\n",
       "  <tbody>\n",
       "    <tr>\n",
       "      <th>0</th>\n",
       "      <td>00001cee341fdb12</td>\n",
       "      <td>Yo bitch Ja Rule is more succesful then you'll...</td>\n",
       "    </tr>\n",
       "    <tr>\n",
       "      <th>1</th>\n",
       "      <td>0000247867823ef7</td>\n",
       "      <td>== From RfC == \\n\\n The title is fine as it is...</td>\n",
       "    </tr>\n",
       "    <tr>\n",
       "      <th>2</th>\n",
       "      <td>00013b17ad220c46</td>\n",
       "      <td>\" \\n\\n == Sources == \\n\\n * Zawe Ashton on Lap...</td>\n",
       "    </tr>\n",
       "    <tr>\n",
       "      <th>3</th>\n",
       "      <td>00017563c3f7919a</td>\n",
       "      <td>:If you have a look back at the source, the in...</td>\n",
       "    </tr>\n",
       "    <tr>\n",
       "      <th>4</th>\n",
       "      <td>00017695ad8997eb</td>\n",
       "      <td>I don't anonymously edit articles at all.</td>\n",
       "    </tr>\n",
       "  </tbody>\n",
       "</table>\n",
       "</div>"
      ],
      "text/plain": [
       "                 id                                       comment_text\n",
       "0  00001cee341fdb12  Yo bitch Ja Rule is more succesful then you'll...\n",
       "1  0000247867823ef7  == From RfC == \\n\\n The title is fine as it is...\n",
       "2  00013b17ad220c46  \" \\n\\n == Sources == \\n\\n * Zawe Ashton on Lap...\n",
       "3  00017563c3f7919a  :If you have a look back at the source, the in...\n",
       "4  00017695ad8997eb          I don't anonymously edit articles at all."
      ]
     },
     "execution_count": 4,
     "metadata": {},
     "output_type": "execute_result"
    }
   ],
   "source": [
    "test_data.head()"
   ]
  },
  {
   "cell_type": "code",
   "execution_count": 5,
   "metadata": {
    "collapsed": true
   },
   "outputs": [],
   "source": [
    "labels_ = train_data.iloc[:,2:8].columns.values"
   ]
  },
  {
   "cell_type": "code",
   "execution_count": 6,
   "metadata": {
    "collapsed": true
   },
   "outputs": [],
   "source": [
    "num_classes = len(labels_)"
   ]
  },
  {
   "cell_type": "code",
   "execution_count": 7,
   "metadata": {
    "collapsed": true
   },
   "outputs": [],
   "source": [
    "x_train, y_train = train_data.comment_text.values, train_data.iloc[:,2:8].values\n",
    "x_test = test_data.comment_text.values"
   ]
  },
  {
   "cell_type": "code",
   "execution_count": 8,
   "metadata": {
    "collapsed": true
   },
   "outputs": [],
   "source": [
    "tokenizer = Tokenizer(lower=True, filters='!\"#$%&()*+,-./:;<=>?@[\\\\]^_`{|}~\\t\\n', split=\" \")\n",
    "tokenizer.fit_on_texts(list(x_train) + list(x_test))"
   ]
  },
  {
   "cell_type": "code",
   "execution_count": 9,
   "metadata": {},
   "outputs": [
    {
     "name": "stdout",
     "output_type": "stream",
     "text": [
      "394787 tokens\n"
     ]
    }
   ],
   "source": [
    "x_train = tokenizer.texts_to_sequences(x_train)\n",
    "x_test  = tokenizer.texts_to_sequences(x_test)\n",
    "vocab_size = 300000\n",
    "print(\"{} tokens\".format(len(tokenizer.word_index)))"
   ]
  },
  {
   "cell_type": "code",
   "execution_count": 10,
   "metadata": {
    "collapsed": true
   },
   "outputs": [],
   "source": [
    "comment_len = list(map(lambda x: len(x), x_train))\n",
    "len_counts = Counter(comment_len)\n",
    "max_seq_len = int(np.percentile(comment_len, 90))"
   ]
  },
  {
   "cell_type": "code",
   "execution_count": 11,
   "metadata": {},
   "outputs": [
    {
     "data": {
      "text/plain": [
       "154"
      ]
     },
     "execution_count": 11,
     "metadata": {},
     "output_type": "execute_result"
    }
   ],
   "source": [
    "max_seq_len"
   ]
  },
  {
   "cell_type": "code",
   "execution_count": 12,
   "metadata": {
    "collapsed": true
   },
   "outputs": [],
   "source": [
    "EMBEDDING_DIM = 300\n",
    "x_train  = pad_sequences(x_train, maxlen=max_seq_len, padding='post', truncating='post', value=0.0)\n",
    "x_test   = pad_sequences(x_test,  maxlen=max_seq_len, padding='post', truncating='post', value=0.0)"
   ]
  },
  {
   "cell_type": "code",
   "execution_count": 13,
   "metadata": {},
   "outputs": [
    {
     "name": "stdout",
     "output_type": "stream",
     "text": [
      "Shape of data tensor: (159571, 154)\n",
      "Shape of label tensor: (159571, 6)\n"
     ]
    }
   ],
   "source": [
    "x_train = np.fliplr(x_train)\n",
    "x_test = np.fliplr(x_test)\n",
    "\n",
    "print('Shape of data tensor:', x_train.shape)\n",
    "print('Shape of label tensor:', y_train.shape)"
   ]
  },
  {
   "cell_type": "markdown",
   "metadata": {},
   "source": [
    "### Using sigmoid for activation output layer not softmax because softmax when increasing score for one label, all others are lowered which is not suitable for multiple labels.\n"
   ]
  },
  {
   "cell_type": "code",
   "execution_count": 14,
   "metadata": {
    "collapsed": true
   },
   "outputs": [],
   "source": [
    "class roc_callback(Callback):\n",
    "    def __init__(self,training_data,validation_data):\n",
    "        self.x = training_data[0]\n",
    "        self.y = training_data[1]\n",
    "        self.x_val = validation_data[0]\n",
    "        self.y_val = validation_data[1]\n",
    "\n",
    "\n",
    "    def on_train_begin(self, logs={}):\n",
    "        return\n",
    "\n",
    "    def on_train_end(self, logs={}):\n",
    "        return\n",
    "\n",
    "    def on_epoch_begin(self, epoch, logs={}):\n",
    "        return\n",
    "\n",
    "    def on_epoch_end(self, epoch, logs={}):\n",
    "        y_pred = self.model.predict(self.x)\n",
    "        roc = roc_auc_score(self.y, y_pred)\n",
    "        y_pred_val = self.model.predict(self.x_val)\n",
    "        roc_val = roc_auc_score(self.y_val, y_pred_val)\n",
    "        print('\\rroc-auc: %s - roc-auc_val: %s' % (str(round(roc,4)),str(round(roc_val,4))),end=100*' '+'\\n')\n",
    "        return\n",
    "\n",
    "    def on_batch_begin(self, batch, logs={}):\n",
    "        return\n",
    "\n",
    "    def on_batch_end(self, batch, logs={}):\n",
    "        return"
   ]
  },
  {
   "cell_type": "code",
   "execution_count": 15,
   "metadata": {
    "collapsed": true
   },
   "outputs": [],
   "source": [
    "model = Sequential()\n",
    "model.add(Embedding(vocab_size+1,\n",
    "                    EMBEDDING_DIM,\n",
    "                    input_length=max_seq_len,\n",
    "                    trainable=True,\n",
    "                    name=\"embedding\", embeddings_regularizer=l2(1e-5)))\n",
    "\n",
    "model.add(Bidirectional(LSTM(512, return_sequences=True, kernel_regularizer=l2(1e-5))))\n",
    "model.add(Dropout(0.5))\n",
    "model.add(GlobalMaxPool1D())\n",
    "model.add(Dense(512, activation=\"tanh\"))\n",
    "model.add(Dropout(0.5))\n",
    "model.add(Dense(512, activation=\"tanh\"))\n",
    "model.add(Dropout(0.5))\n",
    "model.add(Dense(num_classes, activation='sigmoid'))"
   ]
  },
  {
   "cell_type": "code",
   "execution_count": 16,
   "metadata": {
    "collapsed": true
   },
   "outputs": [],
   "source": [
    "model.compile(loss='binary_crossentropy',optimizer='adam',metrics=['accuracy'])"
   ]
  },
  {
   "cell_type": "code",
   "execution_count": 17,
   "metadata": {},
   "outputs": [
    {
     "name": "stdout",
     "output_type": "stream",
     "text": [
      "_________________________________________________________________\n",
      "Layer (type)                 Output Shape              Param #   \n",
      "=================================================================\n",
      "embedding (Embedding)        (None, 154, 300)          90000300  \n",
      "_________________________________________________________________\n",
      "bidirectional_1 (Bidirection (None, 154, 1024)         3330048   \n",
      "_________________________________________________________________\n",
      "dropout_1 (Dropout)          (None, 154, 1024)         0         \n",
      "_________________________________________________________________\n",
      "global_max_pooling1d_1 (Glob (None, 1024)              0         \n",
      "_________________________________________________________________\n",
      "dense_1 (Dense)              (None, 512)               524800    \n",
      "_________________________________________________________________\n",
      "dropout_2 (Dropout)          (None, 512)               0         \n",
      "_________________________________________________________________\n",
      "dense_2 (Dense)              (None, 512)               262656    \n",
      "_________________________________________________________________\n",
      "dropout_3 (Dropout)          (None, 512)               0         \n",
      "_________________________________________________________________\n",
      "dense_3 (Dense)              (None, 6)                 3078      \n",
      "=================================================================\n",
      "Total params: 94,120,882\n",
      "Trainable params: 94,120,882\n",
      "Non-trainable params: 0\n",
      "_________________________________________________________________\n"
     ]
    }
   ],
   "source": [
    "model.summary()"
   ]
  },
  {
   "cell_type": "code",
   "execution_count": 18,
   "metadata": {
    "collapsed": true
   },
   "outputs": [],
   "source": [
    "tensorboard = TensorBoard(log_dir='./logs', histogram_freq=0, write_graph=True, write_images=False)\n",
    "checkpoint = ModelCheckpoint('temp.h5', monitor='val_acc', verbose=1, save_best_only=True, mode='max')\n",
    "early_stop = EarlyStopping(monitor='val_acc', min_delta=0.0001, patience=10, verbose=1, mode='auto')"
   ]
  },
  {
   "cell_type": "code",
   "execution_count": 19,
   "metadata": {
    "collapsed": true
   },
   "outputs": [],
   "source": [
    "X_train, X_val, Y_train, Y_val = train_test_split(x_train, y_train, test_size=0.05, random_state=233)"
   ]
  },
  {
   "cell_type": "code",
   "execution_count": 20,
   "metadata": {},
   "outputs": [
    {
     "name": "stdout",
     "output_type": "stream",
     "text": [
      "Train on 151592 samples, validate on 7979 samples\n",
      "Epoch 1/20\n",
      "151552/151592 [============================>.] - ETA: 0s - loss: 0.1636 - acc: 0.9760\n",
      "Epoch 00001: val_acc improved from -inf to 0.98032, saving model to temp.h5\n",
      "roc-auc: 0.9801 - roc-auc_val: 0.9763                                                                                                    \n",
      "151592/151592 [==============================] - 597s 4ms/step - loss: 0.1636 - acc: 0.9760 - val_loss: 0.0824 - val_acc: 0.9803\n",
      "Epoch 2/20\n",
      "151552/151592 [============================>.] - ETA: 0s - loss: 0.0550 - acc: 0.9829\n",
      "Epoch 00002: val_acc improved from 0.98032 to 0.98212, saving model to temp.h5\n",
      "roc-auc: 0.9872 - roc-auc_val: 0.98                                                                                                    \n",
      "151592/151592 [==============================] - 592s 4ms/step - loss: 0.0550 - acc: 0.9829 - val_loss: 0.0616 - val_acc: 0.9821\n",
      "Epoch 3/20\n",
      "151552/151592 [============================>.] - ETA: 0s - loss: 0.0509 - acc: 0.9842\n",
      "Epoch 00003: val_acc did not improve\n",
      "roc-auc: 0.9919 - roc-auc_val: 0.9814                                                                                                    \n",
      "151592/151592 [==============================] - 590s 4ms/step - loss: 0.0509 - acc: 0.9842 - val_loss: 0.0660 - val_acc: 0.9814\n",
      "Epoch 4/20\n",
      "151552/151592 [============================>.] - ETA: 0s - loss: 0.0478 - acc: 0.9853\n",
      "Epoch 00004: val_acc did not improve\n",
      "roc-auc: 0.9932 - roc-auc_val: 0.9841                                                                                                    \n",
      "151592/151592 [==============================] - 589s 4ms/step - loss: 0.0479 - acc: 0.9853 - val_loss: 0.0600 - val_acc: 0.9818\n",
      "Epoch 5/20\n",
      "151552/151592 [============================>.] - ETA: 0s - loss: 0.0525 - acc: 0.9848\n",
      "Epoch 00005: val_acc did not improve\n",
      "roc-auc: 0.974 - roc-auc_val: 0.9651                                                                                                    \n",
      "151592/151592 [==============================] - 590s 4ms/step - loss: 0.0526 - acc: 0.9848 - val_loss: 0.0664 - val_acc: 0.9815\n",
      "Epoch 6/20\n",
      "151552/151592 [============================>.] - ETA: 0s - loss: 0.0489 - acc: 0.9860\n",
      "Epoch 00006: val_acc did not improve\n",
      "roc-auc: 0.9932 - roc-auc_val: 0.9776                                                                                                    \n",
      "151592/151592 [==============================] - 590s 4ms/step - loss: 0.0489 - acc: 0.9860 - val_loss: 0.0665 - val_acc: 0.9795\n",
      "Epoch 7/20\n",
      "151552/151592 [============================>.] - ETA: 0s - loss: 0.0440 - acc: 0.9874\n",
      "Epoch 00007: val_acc did not improve\n",
      "roc-auc: 0.995 - roc-auc_val: 0.9786                                                                                                    \n",
      "151592/151592 [==============================] - 590s 4ms/step - loss: 0.0440 - acc: 0.9874 - val_loss: 0.0627 - val_acc: 0.9817\n",
      "Epoch 8/20\n",
      "151552/151592 [============================>.] - ETA: 0s - loss: 0.0420 - acc: 0.9883\n",
      "Epoch 00008: val_acc did not improve\n",
      "roc-auc: 0.9956 - roc-auc_val: 0.9756                                                                                                    \n",
      "151592/151592 [==============================] - 589s 4ms/step - loss: 0.0420 - acc: 0.9883 - val_loss: 0.0690 - val_acc: 0.9796\n",
      "Epoch 9/20\n",
      "151552/151592 [============================>.] - ETA: 0s - loss: 0.0411 - acc: 0.9886\n",
      "Epoch 00009: val_acc did not improve\n",
      "roc-auc: 0.9956 - roc-auc_val: 0.9777                                                                                                    \n",
      "151592/151592 [==============================] - 589s 4ms/step - loss: 0.0411 - acc: 0.9886 - val_loss: 0.0664 - val_acc: 0.9806\n",
      "Epoch 10/20\n",
      "151552/151592 [============================>.] - ETA: 0s - loss: 0.0389 - acc: 0.9896\n",
      "Epoch 00010: val_acc did not improve\n",
      "roc-auc: 0.9968 - roc-auc_val: 0.9743                                                                                                    \n",
      "151592/151592 [==============================] - 588s 4ms/step - loss: 0.0389 - acc: 0.9896 - val_loss: 0.0708 - val_acc: 0.9805\n",
      "Epoch 11/20\n",
      "151552/151592 [============================>.] - ETA: 0s - loss: 0.0375 - acc: 0.9903\n",
      "Epoch 00011: val_acc did not improve\n",
      "roc-auc: 0.9973 - roc-auc_val: 0.978                                                                                                    \n",
      "151592/151592 [==============================] - 588s 4ms/step - loss: 0.0375 - acc: 0.9903 - val_loss: 0.0685 - val_acc: 0.9807\n",
      "Epoch 12/20\n",
      "151552/151592 [============================>.] - ETA: 0s - loss: 0.0357 - acc: 0.9912\n",
      "Epoch 00012: val_acc did not improve\n",
      "roc-auc: 0.9976 - roc-auc_val: 0.9741                                                                                                    \n",
      "151592/151592 [==============================] - 588s 4ms/step - loss: 0.0357 - acc: 0.9912 - val_loss: 0.0765 - val_acc: 0.9798\n",
      "Epoch 00012: early stopping\n"
     ]
    },
    {
     "data": {
      "text/plain": [
       "<keras.callbacks.History at 0x7f7aec95ef60>"
      ]
     },
     "execution_count": 20,
     "metadata": {},
     "output_type": "execute_result"
    }
   ],
   "source": [
    "model.fit(X_train, \n",
    "          Y_train, \n",
    "          batch_size=512, \n",
    "          epochs=20, \n",
    "          verbose=1, \n",
    "          validation_data=(X_val,Y_val),\n",
    "          callbacks = [tensorboard,checkpoint,early_stop,roc_callback(training_data=(X_train,Y_train),validation_data=(X_val, Y_val))],\n",
    "          shuffle=True)"
   ]
  },
  {
   "cell_type": "code",
   "execution_count": 21,
   "metadata": {
    "collapsed": true
   },
   "outputs": [],
   "source": [
    "submission = pd.DataFrame(test_data['id'])\n",
    "predictions = model.predict(x_test,batch_size=512)\n",
    "for i in range(len(labels_)):\n",
    "    submission[labels_[i]] = predictions[:,i]"
   ]
  },
  {
   "cell_type": "code",
   "execution_count": 24,
   "metadata": {},
   "outputs": [
    {
     "data": {
      "text/html": [
       "<div>\n",
       "<style>\n",
       "    .dataframe thead tr:only-child th {\n",
       "        text-align: right;\n",
       "    }\n",
       "\n",
       "    .dataframe thead th {\n",
       "        text-align: left;\n",
       "    }\n",
       "\n",
       "    .dataframe tbody tr th {\n",
       "        vertical-align: top;\n",
       "    }\n",
       "</style>\n",
       "<table border=\"1\" class=\"dataframe\">\n",
       "  <thead>\n",
       "    <tr style=\"text-align: right;\">\n",
       "      <th></th>\n",
       "      <th>id</th>\n",
       "      <th>toxic</th>\n",
       "      <th>severe_toxic</th>\n",
       "      <th>obscene</th>\n",
       "      <th>threat</th>\n",
       "      <th>insult</th>\n",
       "      <th>identity_hate</th>\n",
       "    </tr>\n",
       "  </thead>\n",
       "  <tbody>\n",
       "    <tr>\n",
       "      <th>0</th>\n",
       "      <td>00001cee341fdb12</td>\n",
       "      <td>0.993966</td>\n",
       "      <td>0.124771</td>\n",
       "      <td>0.971878</td>\n",
       "      <td>0.020371</td>\n",
       "      <td>0.855828</td>\n",
       "      <td>0.040631</td>\n",
       "    </tr>\n",
       "    <tr>\n",
       "      <th>1</th>\n",
       "      <td>0000247867823ef7</td>\n",
       "      <td>0.000337</td>\n",
       "      <td>0.000177</td>\n",
       "      <td>0.000225</td>\n",
       "      <td>0.000046</td>\n",
       "      <td>0.000272</td>\n",
       "      <td>0.000118</td>\n",
       "    </tr>\n",
       "    <tr>\n",
       "      <th>2</th>\n",
       "      <td>00013b17ad220c46</td>\n",
       "      <td>0.001390</td>\n",
       "      <td>0.000495</td>\n",
       "      <td>0.001367</td>\n",
       "      <td>0.000057</td>\n",
       "      <td>0.000614</td>\n",
       "      <td>0.000046</td>\n",
       "    </tr>\n",
       "    <tr>\n",
       "      <th>3</th>\n",
       "      <td>00017563c3f7919a</td>\n",
       "      <td>0.002176</td>\n",
       "      <td>0.000967</td>\n",
       "      <td>0.001209</td>\n",
       "      <td>0.001058</td>\n",
       "      <td>0.000998</td>\n",
       "      <td>0.000087</td>\n",
       "    </tr>\n",
       "    <tr>\n",
       "      <th>4</th>\n",
       "      <td>00017695ad8997eb</td>\n",
       "      <td>0.003370</td>\n",
       "      <td>0.000851</td>\n",
       "      <td>0.001061</td>\n",
       "      <td>0.000156</td>\n",
       "      <td>0.000417</td>\n",
       "      <td>0.000024</td>\n",
       "    </tr>\n",
       "  </tbody>\n",
       "</table>\n",
       "</div>"
      ],
      "text/plain": [
       "                 id     toxic  severe_toxic   obscene    threat    insult  \\\n",
       "0  00001cee341fdb12  0.993966      0.124771  0.971878  0.020371  0.855828   \n",
       "1  0000247867823ef7  0.000337      0.000177  0.000225  0.000046  0.000272   \n",
       "2  00013b17ad220c46  0.001390      0.000495  0.001367  0.000057  0.000614   \n",
       "3  00017563c3f7919a  0.002176      0.000967  0.001209  0.001058  0.000998   \n",
       "4  00017695ad8997eb  0.003370      0.000851  0.001061  0.000156  0.000417   \n",
       "\n",
       "   identity_hate  \n",
       "0       0.040631  \n",
       "1       0.000118  \n",
       "2       0.000046  \n",
       "3       0.000087  \n",
       "4       0.000024  "
      ]
     },
     "execution_count": 24,
     "metadata": {},
     "output_type": "execute_result"
    }
   ],
   "source": [
    "submission.head()"
   ]
  },
  {
   "cell_type": "code",
   "execution_count": null,
   "metadata": {
    "collapsed": true
   },
   "outputs": [],
   "source": []
  }
 ],
 "metadata": {
  "kernelspec": {
   "display_name": "Python 3",
   "language": "python",
   "name": "python3"
  },
  "language_info": {
   "codemirror_mode": {
    "name": "ipython",
    "version": 3
   },
   "file_extension": ".py",
   "mimetype": "text/x-python",
   "name": "python",
   "nbconvert_exporter": "python",
   "pygments_lexer": "ipython3",
   "version": "3.6.3"
  }
 },
 "nbformat": 4,
 "nbformat_minor": 2
}
